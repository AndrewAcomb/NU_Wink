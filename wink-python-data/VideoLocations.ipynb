{
 "cells": [
  {
   "cell_type": "code",
   "execution_count": 2,
   "metadata": {},
   "outputs": [],
   "source": [
    "import json\n",
    "import pprint\n",
    "from operator import itemgetter\n",
    "\n",
    "with open('locationdata.json') as json_file:\n",
    "    data = json.load(json_file)\n",
    "\n",
    "buildingdata = data.get('Buildings')\n",
    "#pprint.pprint(buildingdata)"
   ]
  },
  {
   "cell_type": "code",
   "execution_count": 3,
   "metadata": {},
   "outputs": [],
   "source": [
    "northarray = []\n",
    "southarray = []\n",
    "\n",
    "#Garret-Evangelical Seminary is the arbitrary midpoint on campus \n",
    "#seperating North and South Campus\n",
    "garretlat = 42.0560686\n",
    "\n",
    "for building in buildingdata:\n",
    "    if building.get('desc') != \"\" and building.get('lat') <= garretlat:\n",
    "        southarray.append(building)\n",
    "    elif building.get('desc') != \"\" and building.get('lat') > garretlat:\n",
    "        northarray.append(building)\n",
    "\n"
   ]
  },
  {
   "cell_type": "code",
   "execution_count": 4,
   "metadata": {},
   "outputs": [],
   "source": [
    "# for south in southarray:\n",
    "#     print(south.get('name'))"
   ]
  },
  {
   "cell_type": "code",
   "execution_count": 5,
   "metadata": {},
   "outputs": [],
   "source": [
    "# for north in northarray:\n",
    "#     print(north.get('name'))"
   ]
  },
  {
   "cell_type": "code",
   "execution_count": 6,
   "metadata": {},
   "outputs": [],
   "source": [
    "sortedsouthlist = sorted(southarray, key=itemgetter('lat'), reverse = True) \n",
    "sortednorthlist = sorted(northarray, key=itemgetter('lat'), reverse = True) "
   ]
  },
  {
   "cell_type": "code",
   "execution_count": 7,
   "metadata": {},
   "outputs": [
    {
     "name": "stdout",
     "output_type": "stream",
     "text": [
      "NORTH\n",
      "\n",
      "Annenberg Hall\n",
      "Swift Hall\n",
      "Lunt Hall\n",
      "Jacobs Center\n",
      "Andersen Hall\n",
      "Leverone Hall\n",
      "Norris Center\n",
      "University Library\n",
      "Pick-Staiger\n",
      "Block Museum\n",
      "Annie May Swift Hall\n",
      "Theatre & Interpretation Center\n",
      "Regenstein Hall of Music\n",
      "Louis Hall\n",
      "University Hall\n",
      "Kresge Centennial Hall\n",
      "Scott Hall\n",
      "McCormick Tribune\n",
      "Harris Hall\n",
      "Lutkin Hall\n",
      "Locy Hall\n",
      "International Studies Res College\n",
      "Communications Res College\n",
      "Fisk Hall\n",
      "Music Administration Building\n",
      "Allison Res Community\n",
      "Alice S Millar Chapel\n",
      "Hardin Hall - Rebecca Crown\n",
      "1801 Hinman Ave\n",
      "Rehab Inst of Chicago\n",
      "Abbott Hall\n",
      "\n",
      "SOUTH\n"
     ]
    }
   ],
   "source": [
    "print (\"NORTH\\n\")\n",
    "\n",
    "for south in sortedsouthlist:\n",
    "    print(south.get('name'))\n",
    "    \n",
    "print (\"\\nSOUTH\")"
   ]
  },
  {
   "cell_type": "code",
   "execution_count": 8,
   "metadata": {},
   "outputs": [
    {
     "name": "stdout",
     "output_type": "stream",
     "text": [
      "NORTH\n",
      "\n",
      "Elder Hall\n",
      "Slivka Res College\n",
      "Ayers Res College\n",
      "Henry Crown Sports Pavilion\n",
      "Frances Searle\n",
      "Mudd Library\n",
      "Technological Institute\n",
      "Cook Hall\n",
      "Pancoe Life Sciences\n",
      "Ford Engineering and Design Center\n",
      "Ryan Hall\n",
      "Dearborn Observatory\n",
      "Allen Center\n",
      "\n",
      "SOUTH\n"
     ]
    }
   ],
   "source": [
    "print (\"NORTH\\n\")\n",
    "\n",
    "for north in sortednorthlist:\n",
    "    print(north.get('name'))\n",
    "    \n",
    "print (\"\\nSOUTH\")"
   ]
  },
  {
   "cell_type": "code",
   "execution_count": 13,
   "metadata": {},
   "outputs": [
    {
     "name": "stdout",
     "output_type": "stream",
     "text": [
      "44\n"
     ]
    }
   ],
   "source": [
    "test = northarray +  southarray\n",
    "print(len(test))"
   ]
  },
  {
   "cell_type": "code",
   "execution_count": null,
   "metadata": {},
   "outputs": [],
   "source": []
  }
 ],
 "metadata": {
  "kernelspec": {
   "display_name": "Python 3",
   "language": "python",
   "name": "python3"
  },
  "language_info": {
   "codemirror_mode": {
    "name": "ipython",
    "version": 3
   },
   "file_extension": ".py",
   "mimetype": "text/x-python",
   "name": "python",
   "nbconvert_exporter": "python",
   "pygments_lexer": "ipython3",
   "version": "3.6.5"
  }
 },
 "nbformat": 4,
 "nbformat_minor": 2
}
